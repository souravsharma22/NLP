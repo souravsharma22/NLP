{
 "cells": [
  {
   "cell_type": "code",
   "execution_count": 5,
   "metadata": {},
   "outputs": [],
   "source": [
    "paragraph = '''Rashtrapati Bhavan has given me many memorable events in which we have all worked together. It has been transformed into People's Bhavan, thanks to your efforts. Nearly one million people every year from all walks of life and all age groups such as farmers, sarpanches, police personnel, postmen, writers, educators, political leaders, judicial personalities, home makers, Indians living abroad, industrialists, teachers and students have enriched us with their presence. Invariably I have been getting lot of appreciation after their visit which has been due to the care and individual contribution from each one of you, be it the warm and courteous reception, catering, conducting around facilities, maintenance of the number of gardens, photography and transport. I have seen how the visitors get excited by the Children's Gallery, the exhibits in the Kitchen Museum, the display of paintings and sculptures in the Marble Hall, Herbal Garden, Spiritual Garden, Tactile Garden, Musical Fountain, the bio-diversity park, artificial lake, renovated paintings in the Asoka Hall and modernized reception. The foreign dignitaries have been quite impressed by the horse display, smartness in the parade and the music by our band. While in the present environment, the security personnel are providing us with constant vigil. I am glad that their facilities have been augmented for improving their working conditions. With the modern Multi-media studio established at Rashtrapati Bhavan, we have been able to reach far corners of the country and the world.\n",
    "In the health sector Rashtrapati Bhavan's clinic is connected to major hospitals like Research and Referral Hospital, All India Institute of Medical Sciences and CARE Hospital, Hyderabad. Employees and Family Members of Rashtrapati Bhavan above the age of 40 have been examined by the team of doctors and have been treated wherever necessary. They have also been followed up in the subsequent years including provision of counseling on lifestyle changes. Special screening has been done for children for early detection of hearing problems. The Clinic has been upgraded with latest technology equipment and has become a versatile medical centre in this region.\n",
    "I enjoyed meeting the staff members and families and greeting them on important festival days like Diwali, Rakhi, Holi, New Years Day and Id-ul-Fitr.      \n",
    "During this period, I am happy that the housing environment, estate gardens have been improved, school has been given a technological upgradation and Gymnasiums have started functioning. Rashtrapati Bhavan employees, families and their children participated with great enthusiasm in the special event of sports and other competition. I was very happy to see the Rashtrapati Bhavan School children participating in the Republic Day parade.\n",
    "We were happy to have the enthralling performances of leading and upcoming artists in music, dance and theatre from various parts of the country well attended by Rashtrapati Bhavan community and distinguished guests.     \n",
    "During the five year period, we have had one hundred and sixty nine tours covering all the States, Union Territories and sixteen foreign countries. These tours have been planned and implemented with high degree of military precision and has enabled my interaction with millions of people.     \n",
    "With my personal association with you, I am sure all these facilities will be further nurtured and improved upon in years to come. I cherish my partnership with you in this beautiful environment of gardens, peacock, birds, animals nurtured by Rashtrapati Bhavan and above all the warmth, enthusiasm, co-operation, dedication and commitment shown by each one of you in every one of your activity during all these five years. My sincere thanks to all of you.\n",
    "I was thinking what I can ask you at this time. Each one of you grown-ups and children can plant one tree in Rashtrapati Bhavan. These trees will be named after each one of you. The Garden will be called Family Garden. Dr. Brahma Singh will give you a programme. I am sure you will give full support to plant atleast 10,000 saplings which will definitely improve the ecology of this place. Almighty will bless you. I am very proud of you. My best wishes to all of you in all your endeavours. May God bless you.'''"
   ]
  },
  {
   "cell_type": "code",
   "execution_count": 8,
   "metadata": {},
   "outputs": [],
   "source": [
    "from nltk.stem import PorterStemmer\n",
    "stemmer = PorterStemmer()"
   ]
  },
  {
   "cell_type": "code",
   "execution_count": 3,
   "metadata": {},
   "outputs": [],
   "source": [
    "from nltk.corpus import stopwords"
   ]
  },
  {
   "cell_type": "code",
   "execution_count": 4,
   "metadata": {},
   "outputs": [
    {
     "name": "stderr",
     "output_type": "stream",
     "text": [
      "[nltk_data] Downloading package stopwords to\n",
      "[nltk_data]     C:\\Users\\hp\\AppData\\Roaming\\nltk_data...\n",
      "[nltk_data]   Unzipping corpora\\stopwords.zip.\n"
     ]
    },
    {
     "data": {
      "text/plain": [
       "True"
      ]
     },
     "execution_count": 4,
     "metadata": {},
     "output_type": "execute_result"
    }
   ],
   "source": [
    "import nltk\n",
    "nltk.download('stopwords')"
   ]
  },
  {
   "cell_type": "code",
   "execution_count": 18,
   "metadata": {},
   "outputs": [],
   "source": [
    "sentances = nltk.sent_tokenize(paragraph)\n",
    "temp_sentances = sentances\n",
    "temp_sentances1 = sentances"
   ]
  },
  {
   "cell_type": "code",
   "execution_count": 9,
   "metadata": {},
   "outputs": [],
   "source": [
    "# apply stopword and filter then apply stemming\n",
    "for i in range(len(sentances)):\n",
    "    words = nltk.word_tokenize(sentances[i])\n",
    "    words = [stemmer.stem(word) for word in words if word not in set(stopwords.words('english'))]\n",
    "    sentances[i]=' '.join(words)"
   ]
  },
  {
   "cell_type": "code",
   "execution_count": 10,
   "metadata": {},
   "outputs": [
    {
     "data": {
      "text/plain": [
       "['rashtrapati bhavan given mani memor event work togeth .',\n",
       " \"it transform peopl 's bhavan , thank effort .\",\n",
       " 'nearli one million peopl everi year walk life age group farmer , sarpanch , polic personnel , postmen , writer , educ , polit leader , judici person , home maker , indian live abroad , industrialist , teacher student enrich us presenc .',\n",
       " 'invari i get lot appreci visit due care individu contribut one , warm courteou recept , cater , conduct around facil , mainten number garden , photographi transport .',\n",
       " \"i seen visitor get excit children 's galleri , exhibit kitchen museum , display paint sculptur marbl hall , herbal garden , spiritu garden , tactil garden , music fountain , bio-divers park , artifici lake , renov paint asoka hall modern recept .\",\n",
       " 'the foreign dignitari quit impress hors display , smart parad music band .',\n",
       " 'while present environ , secur personnel provid us constant vigil .',\n",
       " 'i glad facil augment improv work condit .',\n",
       " 'with modern multi-media studio establish rashtrapati bhavan , abl reach far corner countri world .',\n",
       " \"in health sector rashtrapati bhavan 's clinic connect major hospit like research referr hospit , all india institut medic scienc care hospit , hyderabad .\",\n",
       " 'employe famili member rashtrapati bhavan age 40 examin team doctor treat wherev necessari .',\n",
       " 'they also follow subsequ year includ provis counsel lifestyl chang .',\n",
       " 'special screen done children earli detect hear problem .',\n",
       " 'the clinic upgrad latest technolog equip becom versatil medic centr region .',\n",
       " 'i enjoy meet staff member famili greet import festiv day like diwali , rakhi , holi , new year day id-ul-fitr .',\n",
       " 'dure period , i happi hous environ , estat garden improv , school given technolog upgrad gymnasium start function .',\n",
       " 'rashtrapati bhavan employe , famili children particip great enthusiasm special event sport competit .',\n",
       " 'i happi see rashtrapati bhavan school children particip republ day parad .',\n",
       " 'we happi enthral perform lead upcom artist music , danc theatr variou part countri well attend rashtrapati bhavan commun distinguish guest .',\n",
       " 'dure five year period , one hundr sixti nine tour cover state , union territori sixteen foreign countri .',\n",
       " 'these tour plan implement high degre militari precis enabl interact million peopl .',\n",
       " 'with person associ , i sure facil nurtur improv upon year come .',\n",
       " 'i cherish partnership beauti environ garden , peacock , bird , anim nurtur rashtrapati bhavan warmth , enthusiasm , co-oper , dedic commit shown one everi one activ five year .',\n",
       " 'my sincer thank .',\n",
       " 'i think i ask time .',\n",
       " 'each one grown-up children plant one tree rashtrapati bhavan .',\n",
       " 'these tree name one .',\n",
       " 'the garden call famili garden .',\n",
       " 'dr. brahma singh give programm .',\n",
       " 'i sure give full support plant atleast 10,000 sapl definit improv ecolog place .',\n",
       " 'almighti bless .',\n",
       " 'i proud .',\n",
       " 'my best wish endeavour .',\n",
       " 'may god bless .']"
      ]
     },
     "execution_count": 10,
     "metadata": {},
     "output_type": "execute_result"
    }
   ],
   "source": [
    "sentances"
   ]
  },
  {
   "cell_type": "code",
   "execution_count": 13,
   "metadata": {},
   "outputs": [],
   "source": [
    "from nltk.stem import SnowballStemmer\n",
    "stemmer1 = SnowballStemmer('english')"
   ]
  },
  {
   "cell_type": "code",
   "execution_count": 15,
   "metadata": {},
   "outputs": [],
   "source": [
    "for i in range(len(temp_sentances)):\n",
    "    words = nltk.word_tokenize(temp_sentances[i])\n",
    "    words = [stemmer1.stem(word) for word in words if word not in set(stopwords.words('english'))]\n",
    "    temp_sentances[i]=' '.join(words) "
   ]
  },
  {
   "cell_type": "code",
   "execution_count": 16,
   "metadata": {},
   "outputs": [
    {
     "data": {
      "text/plain": [
       "['rashtrapati bhavan given mani memor event work togeth .',\n",
       " \"transform peopl 's bhavan , thank effort .\",\n",
       " 'near one million peopl everi year walk life age group farmer , sarpanch , polic personnel , postmen , writer , educ , polit leader , judici person , home maker , indian live abroad , industrialist , teacher student enrich us presenc .',\n",
       " 'invari get lot appreci visit due care individu contribut one , warm courteous recept , cater , conduct around facil , mainten number garden , photographi transport .',\n",
       " \"seen visitor get excit children 's galleri , exhibit kitchen museum , display paint sculptur marbl hall , herbal garden , spiritu garden , tactil garden , music fountain , bio-div park , artifici lake , renov paint asoka hall modern recept .\",\n",
       " 'foreign dignitari quit impress hor display , smart parad music band .',\n",
       " 'present environ , secur personnel provid us constant vigil .',\n",
       " 'glad facil augment improv work condit .',\n",
       " 'modern multi-media studio establish rashtrapati bhavan , abl reach far corner countri world .',\n",
       " \"health sector rashtrapati bhavan 's clinic connect major hospit like research referr hospit , india institut medic scienc care hospit , hyderabad .\",\n",
       " 'employ famili member rashtrapati bhavan age 40 examin team doctor treat wherev necessari .',\n",
       " 'also follow subsequ year includ provi counsel lifestyl chang .',\n",
       " 'special screen done children ear detect hear problem .',\n",
       " 'clinic upgrad latest technolog equip becom versatil medic centr region .',\n",
       " 'enjoy meet staff member famili greet import festiv day like diwali , rakhi , holi , new year day id-ul-fitr .',\n",
       " 'dure period , happi hous environ , estat garden improv , school given technolog upgrad gymnasium start function .',\n",
       " 'rashtrapati bhavan employ , famili children particip great enthusiasm special event sport competit .',\n",
       " 'happi see rashtrapati bhavan school children particip republ day parad .',\n",
       " 'happi enthral perform lead upcom artist music , danc theatr various part countri well attend rashtrapati bhavan communiti distinguish guest .',\n",
       " 'dure five year period , one hundr sixti nine tour cover state , union territori sixteen foreign countri .',\n",
       " 'tour plan implement high degr militari preci enabl interact million peopl .',\n",
       " 'person associ , sure facil nurtur improv upon year come .',\n",
       " 'cherish partnership beauti environ garden , peacock , bird , anim nurtur rashtrapati bhavan warmth , enthusiasm , co-op , dedic commit shown one everi one activ five year .',\n",
       " 'sincer thank .',\n",
       " 'think ask time .',\n",
       " 'one grown-up children plant one tree rashtrapati bhavan .',\n",
       " 'tree name one .',\n",
       " 'garden call famili garden .',\n",
       " 'dr. brahma singh give programm .',\n",
       " 'sure give full support plant atleast 10,000 sapl definit improv ecolog place .',\n",
       " 'almighti bless .',\n",
       " 'proud .',\n",
       " 'best wish endeavour .',\n",
       " 'may god bless .']"
      ]
     },
     "execution_count": 16,
     "metadata": {},
     "output_type": "execute_result"
    }
   ],
   "source": [
    "temp_sentances"
   ]
  },
  {
   "cell_type": "code",
   "execution_count": 17,
   "metadata": {},
   "outputs": [],
   "source": [
    "from nltk.stem import WordNetLemmatizer\n",
    "lemmetizer = WordNetLemmatizer()\n"
   ]
  },
  {
   "cell_type": "code",
   "execution_count": 22,
   "metadata": {},
   "outputs": [],
   "source": [
    "for i in range(len(temp_sentances1)):\n",
    "    words = nltk.word_tokenize(temp_sentances1[i])\n",
    "    words = [lemmetizer.lemmatize(word,pos='v') for word in words if word not in set(stopwords.words('english'))]\n",
    "    temp_sentances1[i]=' '.join(words) "
   ]
  },
  {
   "cell_type": "code",
   "execution_count": 23,
   "metadata": {},
   "outputs": [
    {
     "data": {
      "text/plain": [
       "['Rashtrapati Bhavan give many memorable event work together .',\n",
       " \"It transform People 's Bhavan , thank effort .\",\n",
       " 'Nearly one million people every year walk life age group farmer , sarpanches , police personnel , postman , writer , educator , political leader , judicial personality , home maker , Indians live abroad , industrialist , teacher student enrich u presence .',\n",
       " 'Invariably I get lot appreciation visit due care individual contribution one , warm courteous reception , cater , conduct around facility , maintenance number garden , photography transport .',\n",
       " \"I see visitor get excite Children 's Gallery , exhibit Kitchen Museum , display paint sculpture Marble Hall , Herbal Garden , Spiritual Garden , Tactile Garden , Musical Fountain , bio-diversity park , artificial lake , renovate paint Asoka Hall modernize reception .\",\n",
       " 'The foreign dignitary quite impress horse display , smartness parade music band .',\n",
       " 'While present environment , security personnel provide u constant vigil .',\n",
       " 'I glad facility augment improve work condition .',\n",
       " 'With modern Multi-media studio establish Rashtrapati Bhavan , able reach far corner country world .',\n",
       " \"In health sector Rashtrapati Bhavan 's clinic connect major hospital like Research Referral Hospital , All India Institute Medical Sciences CARE Hospital , Hyderabad .\",\n",
       " 'Employees Family Members Rashtrapati Bhavan age 40 examine team doctor treat wherever necessary .',\n",
       " 'They also follow subsequent year include provision counsel lifestyle change .',\n",
       " 'Special screen do child early detection hear problem .',\n",
       " 'The Clinic upgrade latest technology equipment become versatile medical centre region .',\n",
       " 'I enjoy meet staff member family greet important festival day like Diwali , Rakhi , Holi , New Years Day Id-ul-Fitr .',\n",
       " 'During period , I happy house environment , estate garden improve , school give technological upgradation Gymnasiums start function .',\n",
       " 'Rashtrapati Bhavan employee , family child participate great enthusiasm special event sport competition .',\n",
       " 'I happy see Rashtrapati Bhavan School child participate Republic Day parade .',\n",
       " 'We happy enthral performance lead upcoming artist music , dance theatre various part country well attend Rashtrapati Bhavan community distinguish guest .',\n",
       " 'During five year period , one hundred sixty nine tour cover States , Union Territories sixteen foreign country .',\n",
       " 'These tour plan implement high degree military precision enable interaction million people .',\n",
       " 'With personal association , I sure facility nurture improve upon year come .',\n",
       " 'I cherish partnership beautiful environment garden , peacock , bird , animal nurture Rashtrapati Bhavan warmth , enthusiasm , co-operation , dedication commitment show one every one activity five year .',\n",
       " 'My sincere thank .',\n",
       " 'I think I ask time .',\n",
       " 'Each one grown-ups child plant one tree Rashtrapati Bhavan .',\n",
       " 'These tree name one .',\n",
       " 'The Garden call Family Garden .',\n",
       " 'Dr. Brahma Singh give programme .',\n",
       " 'I sure give full support plant atleast 10,000 sapling definitely improve ecology place .',\n",
       " 'Almighty bless .',\n",
       " 'I proud .',\n",
       " 'My best wish endeavour .',\n",
       " 'May God bless .']"
      ]
     },
     "execution_count": 23,
     "metadata": {},
     "output_type": "execute_result"
    }
   ],
   "source": [
    "temp_sentances1"
   ]
  },
  {
   "cell_type": "markdown",
   "metadata": {},
   "source": [
    "### Part of speech tagging"
   ]
  },
  {
   "cell_type": "code",
   "execution_count": 24,
   "metadata": {},
   "outputs": [],
   "source": [
    "sentances1 = nltk.sent_tokenize(paragraph)"
   ]
  },
  {
   "cell_type": "code",
   "execution_count": 27,
   "metadata": {},
   "outputs": [
    {
     "name": "stderr",
     "output_type": "stream",
     "text": [
      "[nltk_data] Downloading package averaged_perceptron_tagger_eng to\n",
      "[nltk_data]     C:\\Users\\hp\\AppData\\Roaming\\nltk_data...\n",
      "[nltk_data]   Unzipping taggers\\averaged_perceptron_tagger_eng.zip.\n"
     ]
    },
    {
     "data": {
      "text/plain": [
       "True"
      ]
     },
     "execution_count": 27,
     "metadata": {},
     "output_type": "execute_result"
    }
   ],
   "source": [
    "import nltk\n",
    "nltk.download('averaged_perceptron_tagger_eng')"
   ]
  },
  {
   "cell_type": "code",
   "execution_count": 28,
   "metadata": {},
   "outputs": [
    {
     "name": "stdout",
     "output_type": "stream",
     "text": [
      "[('Rashtrapati', 'NNP'), ('Bhavan', 'NNP'), ('given', 'VBN'), ('many', 'JJ'), ('memorable', 'JJ'), ('events', 'NNS'), ('worked', 'VBN'), ('together', 'RB'), ('.', '.')]\n",
      "[('It', 'PRP'), ('transformed', 'VBD'), ('People', 'NNP'), (\"'s\", 'POS'), ('Bhavan', 'NNP'), (',', ','), ('thanks', 'NNS'), ('efforts', 'NNS'), ('.', '.')]\n",
      "[('Nearly', 'RB'), ('one', 'CD'), ('million', 'CD'), ('people', 'NNS'), ('every', 'DT'), ('year', 'NN'), ('walks', 'VBZ'), ('life', 'NN'), ('age', 'NN'), ('groups', 'NNS'), ('farmers', 'NNS'), (',', ','), ('sarpanches', 'NNS'), (',', ','), ('police', 'NN'), ('personnel', 'NNS'), (',', ','), ('postmen', 'NNS'), (',', ','), ('writers', 'NNS'), (',', ','), ('educators', 'NNS'), (',', ','), ('political', 'JJ'), ('leaders', 'NNS'), (',', ','), ('judicial', 'JJ'), ('personalities', 'NNS'), (',', ','), ('home', 'NN'), ('makers', 'NNS'), (',', ','), ('Indians', 'NNPS'), ('living', 'VBG'), ('abroad', 'RB'), (',', ','), ('industrialists', 'NNS'), (',', ','), ('teachers', 'NNS'), ('students', 'NNS'), ('enriched', 'VBD'), ('us', 'PRP'), ('presence', 'NN'), ('.', '.')]\n",
      "[('Invariably', 'RB'), ('I', 'PRP'), ('getting', 'VBG'), ('lot', 'NN'), ('appreciation', 'NN'), ('visit', 'NN'), ('due', 'JJ'), ('care', 'NN'), ('individual', 'JJ'), ('contribution', 'NN'), ('one', 'CD'), (',', ','), ('warm', 'VBZ'), ('courteous', 'JJ'), ('reception', 'NN'), (',', ','), ('catering', 'NN'), (',', ','), ('conducting', 'VBG'), ('around', 'IN'), ('facilities', 'NNS'), (',', ','), ('maintenance', 'NN'), ('number', 'NN'), ('gardens', 'NNS'), (',', ','), ('photography', 'NN'), ('transport', 'NN'), ('.', '.')]\n",
      "[('I', 'PRP'), ('seen', 'VBN'), ('visitors', 'NNS'), ('get', 'VBP'), ('excited', 'JJ'), ('Children', 'NNP'), (\"'s\", 'POS'), ('Gallery', 'NNP'), (',', ','), ('exhibits', 'VBZ'), ('Kitchen', 'NNP'), ('Museum', 'NNP'), (',', ','), ('display', 'NN'), ('paintings', 'NNS'), ('sculptures', 'VBZ'), ('Marble', 'NNP'), ('Hall', 'NNP'), (',', ','), ('Herbal', 'NNP'), ('Garden', 'NNP'), (',', ','), ('Spiritual', 'NNP'), ('Garden', 'NNP'), (',', ','), ('Tactile', 'NNP'), ('Garden', 'NNP'), (',', ','), ('Musical', 'NNP'), ('Fountain', 'NNP'), (',', ','), ('bio-diversity', 'NN'), ('park', 'NN'), (',', ','), ('artificial', 'JJ'), ('lake', 'NN'), (',', ','), ('renovated', 'VBN'), ('paintings', 'NNS'), ('Asoka', 'NNP'), ('Hall', 'NNP'), ('modernized', 'VBD'), ('reception', 'NN'), ('.', '.')]\n",
      "[('The', 'DT'), ('foreign', 'JJ'), ('dignitaries', 'NNS'), ('quite', 'RB'), ('impressed', 'JJ'), ('horse', 'NN'), ('display', 'NN'), (',', ','), ('smartness', 'JJ'), ('parade', 'NN'), ('music', 'NN'), ('band', 'NN'), ('.', '.')]\n",
      "[('While', 'IN'), ('present', 'JJ'), ('environment', 'NN'), (',', ','), ('security', 'NN'), ('personnel', 'NNS'), ('providing', 'VBG'), ('us', 'PRP'), ('constant', 'JJ'), ('vigil', 'NN'), ('.', '.')]\n",
      "[('I', 'PRP'), ('glad', 'VBP'), ('facilities', 'NNS'), ('augmented', 'VBD'), ('improving', 'VBG'), ('working', 'VBG'), ('conditions', 'NNS'), ('.', '.')]\n",
      "[('With', 'IN'), ('modern', 'JJ'), ('Multi-media', 'NNP'), ('studio', 'NN'), ('established', 'VBD'), ('Rashtrapati', 'NNP'), ('Bhavan', 'NNP'), (',', ','), ('able', 'JJ'), ('reach', 'NN'), ('far', 'RB'), ('corners', 'NNS'), ('country', 'NN'), ('world', 'NN'), ('.', '.')]\n",
      "[('In', 'IN'), ('health', 'NN'), ('sector', 'NN'), ('Rashtrapati', 'NNP'), ('Bhavan', 'NNP'), (\"'s\", 'POS'), ('clinic', 'NN'), ('connected', 'VBD'), ('major', 'JJ'), ('hospitals', 'NNS'), ('like', 'IN'), ('Research', 'NNP'), ('Referral', 'NNP'), ('Hospital', 'NNP'), (',', ','), ('All', 'NNP'), ('India', 'NNP'), ('Institute', 'NNP'), ('Medical', 'NNP'), ('Sciences', 'NNP'), ('CARE', 'NNP'), ('Hospital', 'NNP'), (',', ','), ('Hyderabad', 'NNP'), ('.', '.')]\n",
      "[('Employees', 'NNS'), ('Family', 'RB'), ('Members', 'NNP'), ('Rashtrapati', 'NNP'), ('Bhavan', 'NNP'), ('age', 'NN'), ('40', 'CD'), ('examined', 'VBD'), ('team', 'NN'), ('doctors', 'NNS'), ('treated', 'VBD'), ('wherever', 'RB'), ('necessary', 'JJ'), ('.', '.')]\n",
      "[('They', 'PRP'), ('also', 'RB'), ('followed', 'VBD'), ('subsequent', 'JJ'), ('years', 'NNS'), ('including', 'VBG'), ('provision', 'NN'), ('counseling', 'VBG'), ('lifestyle', 'JJ'), ('changes', 'NNS'), ('.', '.')]\n",
      "[('Special', 'JJ'), ('screening', 'VBG'), ('done', 'VBN'), ('children', 'NNS'), ('early', 'JJ'), ('detection', 'NN'), ('hearing', 'NN'), ('problems', 'NNS'), ('.', '.')]\n",
      "[('The', 'DT'), ('Clinic', 'NNP'), ('upgraded', 'VBD'), ('latest', 'JJS'), ('technology', 'NN'), ('equipment', 'NN'), ('become', 'VBN'), ('versatile', 'JJ'), ('medical', 'JJ'), ('centre', 'NN'), ('region', 'NN'), ('.', '.')]\n",
      "[('I', 'PRP'), ('enjoyed', 'VBD'), ('meeting', 'VBG'), ('staff', 'NN'), ('members', 'NNS'), ('families', 'NNS'), ('greeting', 'VBG'), ('important', 'JJ'), ('festival', 'JJ'), ('days', 'NNS'), ('like', 'IN'), ('Diwali', 'NNP'), (',', ','), ('Rakhi', 'NNP'), (',', ','), ('Holi', 'NNP'), (',', ','), ('New', 'NNP'), ('Years', 'NNP'), ('Day', 'NNP'), ('Id-ul-Fitr', 'NNP'), ('.', '.')]\n",
      "[('During', 'IN'), ('period', 'NN'), (',', ','), ('I', 'PRP'), ('happy', 'JJ'), ('housing', 'NN'), ('environment', 'NN'), (',', ','), ('estate', 'NN'), ('gardens', 'NNS'), ('improved', 'VBN'), (',', ','), ('school', 'NN'), ('given', 'VBN'), ('technological', 'JJ'), ('upgradation', 'NN'), ('Gymnasiums', 'NNP'), ('started', 'VBD'), ('functioning', 'VBG'), ('.', '.')]\n",
      "[('Rashtrapati', 'NNP'), ('Bhavan', 'NNP'), ('employees', 'NNS'), (',', ','), ('families', 'NNS'), ('children', 'NNS'), ('participated', 'VBD'), ('great', 'JJ'), ('enthusiasm', 'JJ'), ('special', 'JJ'), ('event', 'NN'), ('sports', 'NNS'), ('competition', 'NN'), ('.', '.')]\n",
      "[('I', 'PRP'), ('happy', 'JJ'), ('see', 'VBP'), ('Rashtrapati', 'NNP'), ('Bhavan', 'NNP'), ('School', 'NNP'), ('children', 'NNS'), ('participating', 'VBG'), ('Republic', 'NNP'), ('Day', 'NNP'), ('parade', 'VBD'), ('.', '.')]\n",
      "[('We', 'PRP'), ('happy', 'JJ'), ('enthralling', 'VBG'), ('performances', 'NNS'), ('leading', 'VBG'), ('upcoming', 'JJ'), ('artists', 'NNS'), ('music', 'NN'), (',', ','), ('dance', 'NN'), ('theatre', 'NN'), ('various', 'JJ'), ('parts', 'NNS'), ('country', 'NN'), ('well', 'RB'), ('attended', 'VBD'), ('Rashtrapati', 'NNP'), ('Bhavan', 'NNP'), ('community', 'NN'), ('distinguished', 'VBD'), ('guests', 'NNS'), ('.', '.')]\n",
      "[('During', 'IN'), ('five', 'CD'), ('year', 'NN'), ('period', 'NN'), (',', ','), ('one', 'CD'), ('hundred', 'VBD'), ('sixty', 'JJ'), ('nine', 'CD'), ('tours', 'NNS'), ('covering', 'VBG'), ('States', 'NNS'), (',', ','), ('Union', 'NNP'), ('Territories', 'NNP'), ('sixteen', 'VBP'), ('foreign', 'JJ'), ('countries', 'NNS'), ('.', '.')]\n",
      "[('These', 'DT'), ('tours', 'NNS'), ('planned', 'VBD'), ('implemented', 'VBN'), ('high', 'JJ'), ('degree', 'JJ'), ('military', 'JJ'), ('precision', 'NN'), ('enabled', 'VBD'), ('interaction', 'NN'), ('millions', 'NNS'), ('people', 'NNS'), ('.', '.')]\n",
      "[('With', 'IN'), ('personal', 'JJ'), ('association', 'NN'), (',', ','), ('I', 'PRP'), ('sure', 'VBP'), ('facilities', 'NNS'), ('nurtured', 'VBN'), ('improved', 'VBN'), ('upon', 'IN'), ('years', 'NNS'), ('come', 'VBP'), ('.', '.')]\n",
      "[('I', 'PRP'), ('cherish', 'VBP'), ('partnership', 'NN'), ('beautiful', 'JJ'), ('environment', 'NN'), ('gardens', 'NNS'), (',', ','), ('peacock', 'NN'), (',', ','), ('birds', 'NNS'), (',', ','), ('animals', 'NNS'), ('nurtured', 'VBD'), ('Rashtrapati', 'NNP'), ('Bhavan', 'NNP'), ('warmth', 'NN'), (',', ','), ('enthusiasm', 'NN'), (',', ','), ('co-operation', 'NN'), (',', ','), ('dedication', 'NN'), ('commitment', 'NN'), ('shown', 'VBN'), ('one', 'CD'), ('every', 'DT'), ('one', 'CD'), ('activity', 'NN'), ('five', 'CD'), ('years', 'NNS'), ('.', '.')]\n",
      "[('My', 'PRP$'), ('sincere', 'JJ'), ('thanks', 'NNS'), ('.', '.')]\n",
      "[('I', 'PRP'), ('thinking', 'VBG'), ('I', 'PRP'), ('ask', 'JJ'), ('time', 'NN'), ('.', '.')]\n",
      "[('Each', 'DT'), ('one', 'CD'), ('grown-ups', 'NN'), ('children', 'NNS'), ('plant', 'NN'), ('one', 'CD'), ('tree', 'NN'), ('Rashtrapati', 'NNP'), ('Bhavan', 'NNP'), ('.', '.')]\n",
      "[('These', 'DT'), ('trees', 'NNS'), ('named', 'VBD'), ('one', 'CD'), ('.', '.')]\n",
      "[('The', 'DT'), ('Garden', 'NNP'), ('called', 'VBD'), ('Family', 'NNP'), ('Garden', 'NNP'), ('.', '.')]\n",
      "[('Dr.', 'NNP'), ('Brahma', 'NNP'), ('Singh', 'NNP'), ('give', 'VB'), ('programme', 'NN'), ('.', '.')]\n",
      "[('I', 'PRP'), ('sure', 'VBP'), ('give', 'JJ'), ('full', 'JJ'), ('support', 'NN'), ('plant', 'NN'), ('atleast', 'VBD'), ('10,000', 'CD'), ('saplings', 'NNS'), ('definitely', 'RB'), ('improve', 'VB'), ('ecology', 'NN'), ('place', 'NN'), ('.', '.')]\n",
      "[('Almighty', 'NNP'), ('bless', 'NN'), ('.', '.')]\n",
      "[('I', 'PRP'), ('proud', 'VBP'), ('.', '.')]\n",
      "[('My', 'PRP$'), ('best', 'JJS'), ('wishes', 'NNS'), ('endeavours', 'RB'), ('.', '.')]\n",
      "[('May', 'NNP'), ('God', 'NNP'), ('bless', 'NN'), ('.', '.')]\n"
     ]
    }
   ],
   "source": [
    "for i in range(len(sentances1)):\n",
    "    words = nltk.word_tokenize(sentances1[i])\n",
    "    words = [word for word in words if word not in set(stopwords.words('english'))]\n",
    "    poss_tag = nltk.pos_tag(words)\n",
    "    print(poss_tag)"
   ]
  },
  {
   "cell_type": "code",
   "execution_count": 30,
   "metadata": {},
   "outputs": [
    {
     "name": "stdout",
     "output_type": "stream",
     "text": [
      "[('TajMahal', 'NNP'), ('is', 'VBZ'), ('a', 'DT'), ('Buitiful', 'JJ'), ('monument', 'NN')]\n"
     ]
    }
   ],
   "source": [
    "new = \"TajMahal is a Buitiful monument\"\n",
    "print(nltk.pos_tag(new.split()))\n"
   ]
  }
 ],
 "metadata": {
  "kernelspec": {
   "display_name": "Python 3",
   "language": "python",
   "name": "python3"
  },
  "language_info": {
   "codemirror_mode": {
    "name": "ipython",
    "version": 3
   },
   "file_extension": ".py",
   "mimetype": "text/x-python",
   "name": "python",
   "nbconvert_exporter": "python",
   "pygments_lexer": "ipython3",
   "version": "3.11.11"
  }
 },
 "nbformat": 4,
 "nbformat_minor": 2
}
